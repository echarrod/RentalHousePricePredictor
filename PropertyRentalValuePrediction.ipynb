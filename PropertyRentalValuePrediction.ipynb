{
 "cells": [
  {
   "cell_type": "markdown",
   "metadata": {},
   "source": [
    "# Predicting Property Rental Value"
   ]
  },
  {
   "cell_type": "code",
   "execution_count": 1,
   "metadata": {
    "collapsed": true
   },
   "outputs": [],
   "source": [
    "%matplotlib inline\n",
    "import pandas as pd\n",
    "import numpy as np\n",
    "from sklearn import ensemble\n",
    "from sklearn import linear_model\n",
    "from sklearn import preprocessing\n",
    "from sklearn.model_selection import train_test_split\n",
    "import sklearn.metrics as metrics\n",
    "import matplotlib.pyplot as plt\n",
    "from collections import Counter"
   ]
  },
  {
   "cell_type": "code",
   "execution_count": 3,
   "metadata": {},
   "outputs": [],
   "source": [
    "df = pd.read_csv('properties.csv', low_memory=False)"
   ]
  },
  {
   "cell_type": "markdown",
   "metadata": {},
   "source": [
    "## Preprocessing"
   ]
  },
  {
   "cell_type": "code",
   "execution_count": 4,
   "metadata": {},
   "outputs": [
    {
     "data": {
      "text/html": [
       "<div>\n",
       "<style>\n",
       "    .dataframe thead tr:only-child th {\n",
       "        text-align: right;\n",
       "    }\n",
       "\n",
       "    .dataframe thead th {\n",
       "        text-align: left;\n",
       "    }\n",
       "\n",
       "    .dataframe tbody tr th {\n",
       "        vertical-align: top;\n",
       "    }\n",
       "</style>\n",
       "<table border=\"1\" class=\"dataframe\">\n",
       "  <thead>\n",
       "    <tr style=\"text-align: right;\">\n",
       "      <th></th>\n",
       "      <th>initial_advertised_price</th>\n",
       "      <th>final_advertised_price</th>\n",
       "      <th>time_to_first_price_drop</th>\n",
       "      <th>number_of_enquiries</th>\n",
       "      <th>advert_state</th>\n",
       "      <th>time_on_market</th>\n",
       "      <th>rent</th>\n",
       "      <th>deposit</th>\n",
       "      <th>tenancy_start_date</th>\n",
       "      <th>tenancy_end_date</th>\n",
       "      <th>longutide</th>\n",
       "      <th>latitude</th>\n",
       "      <th>bedrooms</th>\n",
       "      <th>square_metres</th>\n",
       "      <th>dwelling_type</th>\n",
       "      <th>has_garden</th>\n",
       "      <th>property_id</th>\n",
       "    </tr>\n",
       "  </thead>\n",
       "  <tbody>\n",
       "    <tr>\n",
       "      <th>0</th>\n",
       "      <td>NaN</td>\n",
       "      <td>NaN</td>\n",
       "      <td>NaN</td>\n",
       "      <td>NaN</td>\n",
       "      <td>let</td>\n",
       "      <td>NaN</td>\n",
       "      <td>1289</td>\n",
       "      <td>1475.0</td>\n",
       "      <td>26/11/2013</td>\n",
       "      <td>25/11/2014</td>\n",
       "      <td>-0.056727</td>\n",
       "      <td>51.614931</td>\n",
       "      <td>1.0</td>\n",
       "      <td>42.0</td>\n",
       "      <td>Mid-floor flat</td>\n",
       "      <td>False</td>\n",
       "      <td>637902.0</td>\n",
       "    </tr>\n",
       "    <tr>\n",
       "      <th>1</th>\n",
       "      <td>NaN</td>\n",
       "      <td>NaN</td>\n",
       "      <td>NaN</td>\n",
       "      <td>NaN</td>\n",
       "      <td>let</td>\n",
       "      <td>NaN</td>\n",
       "      <td>0</td>\n",
       "      <td>NaN</td>\n",
       "      <td>26/11/2013</td>\n",
       "      <td>25/11/2014</td>\n",
       "      <td>-0.109995</td>\n",
       "      <td>51.635711</td>\n",
       "      <td>2.0</td>\n",
       "      <td>46.0</td>\n",
       "      <td>Ground-floor flat</td>\n",
       "      <td>False</td>\n",
       "      <td>675522.0</td>\n",
       "    </tr>\n",
       "    <tr>\n",
       "      <th>2</th>\n",
       "      <td>NaN</td>\n",
       "      <td>NaN</td>\n",
       "      <td>NaN</td>\n",
       "      <td>NaN</td>\n",
       "      <td>let</td>\n",
       "      <td>NaN</td>\n",
       "      <td>1726</td>\n",
       "      <td>2376.0</td>\n",
       "      <td>05/12/2013</td>\n",
       "      <td>04/12/2014</td>\n",
       "      <td>-0.216130</td>\n",
       "      <td>51.599663</td>\n",
       "      <td>2.0</td>\n",
       "      <td>60.0</td>\n",
       "      <td>Mid floor flat</td>\n",
       "      <td>False</td>\n",
       "      <td>627534.0</td>\n",
       "    </tr>\n",
       "  </tbody>\n",
       "</table>\n",
       "</div>"
      ],
      "text/plain": [
       "   initial_advertised_price  final_advertised_price  time_to_first_price_drop  \\\n",
       "0                       NaN                     NaN                       NaN   \n",
       "1                       NaN                     NaN                       NaN   \n",
       "2                       NaN                     NaN                       NaN   \n",
       "\n",
       "   number_of_enquiries advert_state  time_on_market  rent  deposit  \\\n",
       "0                  NaN          let             NaN  1289   1475.0   \n",
       "1                  NaN          let             NaN     0      NaN   \n",
       "2                  NaN          let             NaN  1726   2376.0   \n",
       "\n",
       "  tenancy_start_date tenancy_end_date  longutide   latitude  bedrooms  \\\n",
       "0         26/11/2013       25/11/2014  -0.056727  51.614931       1.0   \n",
       "1         26/11/2013       25/11/2014  -0.109995  51.635711       2.0   \n",
       "2         05/12/2013       04/12/2014  -0.216130  51.599663       2.0   \n",
       "\n",
       "   square_metres      dwelling_type has_garden  property_id  \n",
       "0           42.0     Mid-floor flat      False     637902.0  \n",
       "1           46.0  Ground-floor flat      False     675522.0  \n",
       "2           60.0     Mid floor flat      False     627534.0  "
      ]
     },
     "execution_count": 4,
     "metadata": {},
     "output_type": "execute_result"
    }
   ],
   "source": [
    "df.head(3)"
   ]
  },
  {
   "cell_type": "markdown",
   "metadata": {},
   "source": [
    "### Amalgamate columns"
   ]
  },
  {
   "cell_type": "markdown",
   "metadata": {},
   "source": [
    "Since the data looks like it has come from (at least) a couple of different sources, some with \"final_advertised_price\" as the rent, and some with \"rent\". Amalgamating the two:"
   ]
  },
  {
   "cell_type": "code",
   "execution_count": 5,
   "metadata": {
    "collapsed": true
   },
   "outputs": [],
   "source": [
    "df['rent'] = np.where(df['rent'] == 0, df['final_advertised_price'],0)"
   ]
  },
  {
   "cell_type": "markdown",
   "metadata": {},
   "source": [
    "### Rename columns"
   ]
  },
  {
   "cell_type": "code",
   "execution_count": 6,
   "metadata": {
    "collapsed": true
   },
   "outputs": [],
   "source": [
    "df = df.rename(columns={'longutide': 'longitude'})"
   ]
  },
  {
   "cell_type": "markdown",
   "metadata": {},
   "source": [
    "### Drop superfluous columns"
   ]
  },
  {
   "cell_type": "code",
   "execution_count": 7,
   "metadata": {},
   "outputs": [
    {
     "data": {
      "text/plain": [
       "Index([u'initial_advertised_price', u'final_advertised_price',\n",
       "       u'time_to_first_price_drop', u'number_of_enquiries', u'advert_state',\n",
       "       u'time_on_market', u'rent', u'deposit', u'tenancy_start_date',\n",
       "       u'tenancy_end_date', u'longitude', u'latitude', u'bedrooms',\n",
       "       u'square_metres', u'dwelling_type', u'has_garden', u'property_id'],\n",
       "      dtype='object')"
      ]
     },
     "execution_count": 7,
     "metadata": {},
     "output_type": "execute_result"
    }
   ],
   "source": [
    "df.columns"
   ]
  },
  {
   "cell_type": "markdown",
   "metadata": {},
   "source": [
    "Since we don't have initial_advertised_prices for a lot of the data, we will drop that:"
   ]
  },
  {
   "cell_type": "code",
   "execution_count": 8,
   "metadata": {
    "collapsed": true
   },
   "outputs": [],
   "source": [
    "df.drop(['initial_advertised_price'], axis=1, inplace=True) "
   ]
  },
  {
   "cell_type": "markdown",
   "metadata": {},
   "source": [
    "After above amalgamation, we don't need final_advertised_price:"
   ]
  },
  {
   "cell_type": "code",
   "execution_count": 9,
   "metadata": {
    "collapsed": true
   },
   "outputs": [],
   "source": [
    "df.drop(['final_advertised_price'], axis=1, inplace=True)"
   ]
  },
  {
   "cell_type": "markdown",
   "metadata": {},
   "source": [
    "Also time_to_first_price_drop and number_of_enquiries (although it seems to be a good indicator) are only present for less than 20% of the data we will remove those too."
   ]
  },
  {
   "cell_type": "code",
   "execution_count": 10,
   "metadata": {
    "collapsed": true
   },
   "outputs": [],
   "source": [
    "df.drop(df.loc[:,'time_to_first_price_drop':'number_of_enquiries'].head(0).columns, axis=1, inplace=True) ##head(0) means no rows to be dropped"
   ]
  },
  {
   "cell_type": "markdown",
   "metadata": {},
   "source": [
    "time_on_market is only present for some of the data, and for this field to be valuable, we would also have to consider the initial_price and time_to_first_price_drop"
   ]
  },
  {
   "cell_type": "code",
   "execution_count": 11,
   "metadata": {
    "collapsed": true
   },
   "outputs": [],
   "source": [
    "df.drop(['time_on_market'], axis=1, inplace=True)"
   ]
  },
  {
   "cell_type": "markdown",
   "metadata": {},
   "source": [
    "Remove deposit, as this will largely be dictated by the rent amount (and not the other way around)"
   ]
  },
  {
   "cell_type": "code",
   "execution_count": 12,
   "metadata": {
    "collapsed": true
   },
   "outputs": [],
   "source": [
    "df.drop(['deposit'], axis=1, inplace=True)"
   ]
  },
  {
   "cell_type": "markdown",
   "metadata": {},
   "source": [
    "Remove tenancy end and start dates. Ideally we would keep tenancy_start_date, as this is when the price is set, so it would be relevant to our predictions, given the value of the rent changes with time, all other things equal, but there seems to a minimal amount of properties which have a tenancy_start_date and a value for rent."
   ]
  },
  {
   "cell_type": "code",
   "execution_count": 13,
   "metadata": {
    "collapsed": true
   },
   "outputs": [],
   "source": [
    "df.drop(['tenancy_end_date'], axis=1, inplace=True)\n",
    "df.drop(['tenancy_start_date'], axis=1, inplace=True) #if removing this lane, convert with: df['tenancy_start_date'] = pd.to_datetime(df['tenancy_start_date'])"
   ]
  },
  {
   "cell_type": "markdown",
   "metadata": {},
   "source": [
    "Remove property_id, as it provides us with no information regarding the price"
   ]
  },
  {
   "cell_type": "code",
   "execution_count": 14,
   "metadata": {
    "collapsed": true
   },
   "outputs": [],
   "source": [
    "df.drop(['property_id'], axis=1, inplace=True)"
   ]
  },
  {
   "cell_type": "code",
   "execution_count": 15,
   "metadata": {},
   "outputs": [
    {
     "data": {
      "text/html": [
       "<div>\n",
       "<style>\n",
       "    .dataframe thead tr:only-child th {\n",
       "        text-align: right;\n",
       "    }\n",
       "\n",
       "    .dataframe thead th {\n",
       "        text-align: left;\n",
       "    }\n",
       "\n",
       "    .dataframe tbody tr th {\n",
       "        vertical-align: top;\n",
       "    }\n",
       "</style>\n",
       "<table border=\"1\" class=\"dataframe\">\n",
       "  <thead>\n",
       "    <tr style=\"text-align: right;\">\n",
       "      <th></th>\n",
       "      <th>advert_state</th>\n",
       "      <th>rent</th>\n",
       "      <th>longitude</th>\n",
       "      <th>latitude</th>\n",
       "      <th>bedrooms</th>\n",
       "      <th>square_metres</th>\n",
       "      <th>dwelling_type</th>\n",
       "      <th>has_garden</th>\n",
       "    </tr>\n",
       "  </thead>\n",
       "  <tbody>\n",
       "    <tr>\n",
       "      <th>0</th>\n",
       "      <td>let</td>\n",
       "      <td>0.0</td>\n",
       "      <td>-0.056727</td>\n",
       "      <td>51.614931</td>\n",
       "      <td>1.0</td>\n",
       "      <td>42.0</td>\n",
       "      <td>Mid-floor flat</td>\n",
       "      <td>False</td>\n",
       "    </tr>\n",
       "    <tr>\n",
       "      <th>1</th>\n",
       "      <td>let</td>\n",
       "      <td>NaN</td>\n",
       "      <td>-0.109995</td>\n",
       "      <td>51.635711</td>\n",
       "      <td>2.0</td>\n",
       "      <td>46.0</td>\n",
       "      <td>Ground-floor flat</td>\n",
       "      <td>False</td>\n",
       "    </tr>\n",
       "    <tr>\n",
       "      <th>2</th>\n",
       "      <td>let</td>\n",
       "      <td>0.0</td>\n",
       "      <td>-0.216130</td>\n",
       "      <td>51.599663</td>\n",
       "      <td>2.0</td>\n",
       "      <td>60.0</td>\n",
       "      <td>Mid floor flat</td>\n",
       "      <td>False</td>\n",
       "    </tr>\n",
       "    <tr>\n",
       "      <th>3</th>\n",
       "      <td>let</td>\n",
       "      <td>0.0</td>\n",
       "      <td>-0.008668</td>\n",
       "      <td>51.524134</td>\n",
       "      <td>2.0</td>\n",
       "      <td>85.0</td>\n",
       "      <td>Mid-floor maisonette</td>\n",
       "      <td>False</td>\n",
       "    </tr>\n",
       "    <tr>\n",
       "      <th>4</th>\n",
       "      <td>let</td>\n",
       "      <td>0.0</td>\n",
       "      <td>-0.112901</td>\n",
       "      <td>51.501556</td>\n",
       "      <td>2.0</td>\n",
       "      <td>45.0</td>\n",
       "      <td>Top-floor maisonette</td>\n",
       "      <td>False</td>\n",
       "    </tr>\n",
       "  </tbody>\n",
       "</table>\n",
       "</div>"
      ],
      "text/plain": [
       "  advert_state  rent  longitude   latitude  bedrooms  square_metres  \\\n",
       "0          let   0.0  -0.056727  51.614931       1.0           42.0   \n",
       "1          let   NaN  -0.109995  51.635711       2.0           46.0   \n",
       "2          let   0.0  -0.216130  51.599663       2.0           60.0   \n",
       "3          let   0.0  -0.008668  51.524134       2.0           85.0   \n",
       "4          let   0.0  -0.112901  51.501556       2.0           45.0   \n",
       "\n",
       "          dwelling_type has_garden  \n",
       "0        Mid-floor flat      False  \n",
       "1     Ground-floor flat      False  \n",
       "2        Mid floor flat      False  \n",
       "3  Mid-floor maisonette      False  \n",
       "4  Top-floor maisonette      False  "
      ]
     },
     "execution_count": 15,
     "metadata": {},
     "output_type": "execute_result"
    }
   ],
   "source": [
    "df.head(5)"
   ]
  },
  {
   "cell_type": "markdown",
   "metadata": {},
   "source": [
    "### Get Postcodes from Coordinates"
   ]
  },
  {
   "cell_type": "markdown",
   "metadata": {},
   "source": [
    "PyGeoCoder has a reverse geocoder API limit, so commenting this out until I can find a way to do this to all of the results"
   ]
  },
  {
   "cell_type": "code",
   "execution_count": 17,
   "metadata": {},
   "outputs": [],
   "source": [
    "# from pygeocoder import Geocoder\n",
    "# import pandas as pd\n",
    "# import numpy as np\n",
    "\n",
    "# df['postcode'] = df.apply(\n",
    "#     lambda row: Geocoder.reverse_geocode(row['latitude'], row['longitude']).postal_code, axis=1)"
   ]
  },
  {
   "cell_type": "markdown",
   "metadata": {},
   "source": [
    "Discard 2nd part of postcode:"
   ]
  },
  {
   "cell_type": "code",
   "execution_count": 18,
   "metadata": {
    "collapsed": true
   },
   "outputs": [],
   "source": [
    "# df['postcode'] = df['postcode'].apply(lambda x: x.split(' ')[0])"
   ]
  },
  {
   "cell_type": "code",
   "execution_count": 19,
   "metadata": {},
   "outputs": [
    {
     "data": {
      "text/html": [
       "<div>\n",
       "<style>\n",
       "    .dataframe thead tr:only-child th {\n",
       "        text-align: right;\n",
       "    }\n",
       "\n",
       "    .dataframe thead th {\n",
       "        text-align: left;\n",
       "    }\n",
       "\n",
       "    .dataframe tbody tr th {\n",
       "        vertical-align: top;\n",
       "    }\n",
       "</style>\n",
       "<table border=\"1\" class=\"dataframe\">\n",
       "  <thead>\n",
       "    <tr style=\"text-align: right;\">\n",
       "      <th></th>\n",
       "      <th>advert_state</th>\n",
       "      <th>rent</th>\n",
       "      <th>longitude</th>\n",
       "      <th>latitude</th>\n",
       "      <th>bedrooms</th>\n",
       "      <th>square_metres</th>\n",
       "      <th>dwelling_type</th>\n",
       "      <th>has_garden</th>\n",
       "    </tr>\n",
       "  </thead>\n",
       "  <tbody>\n",
       "    <tr>\n",
       "      <th>0</th>\n",
       "      <td>let</td>\n",
       "      <td>0.0</td>\n",
       "      <td>-0.056727</td>\n",
       "      <td>51.614931</td>\n",
       "      <td>1.0</td>\n",
       "      <td>42.0</td>\n",
       "      <td>Mid-floor flat</td>\n",
       "      <td>False</td>\n",
       "    </tr>\n",
       "  </tbody>\n",
       "</table>\n",
       "</div>"
      ],
      "text/plain": [
       "  advert_state  rent  longitude   latitude  bedrooms  square_metres  \\\n",
       "0          let   0.0  -0.056727  51.614931       1.0           42.0   \n",
       "\n",
       "    dwelling_type has_garden  \n",
       "0  Mid-floor flat      False  "
      ]
     },
     "execution_count": 19,
     "metadata": {},
     "output_type": "execute_result"
    }
   ],
   "source": [
    "df.head(1)"
   ]
  },
  {
   "cell_type": "markdown",
   "metadata": {},
   "source": [
    "### Fill NaNs"
   ]
  },
  {
   "cell_type": "code",
   "execution_count": 20,
   "metadata": {
    "collapsed": true
   },
   "outputs": [],
   "source": [
    "df.fillna(0, inplace=True)"
   ]
  },
  {
   "cell_type": "code",
   "execution_count": 21,
   "metadata": {},
   "outputs": [
    {
     "data": {
      "text/plain": [
       "(1048575, 8)"
      ]
     },
     "execution_count": 21,
     "metadata": {},
     "output_type": "execute_result"
    }
   ],
   "source": [
    "df.shape"
   ]
  },
  {
   "cell_type": "markdown",
   "metadata": {},
   "source": [
    "### Drop rows"
   ]
  },
  {
   "cell_type": "markdown",
   "metadata": {},
   "source": [
    "#### Where we have no value for rent:"
   ]
  },
  {
   "cell_type": "markdown",
   "metadata": {},
   "source": [
    "Rent also seems too low for some values (52 values of £10 or less):"
   ]
  },
  {
   "cell_type": "code",
   "execution_count": 22,
   "metadata": {
    "collapsed": true
   },
   "outputs": [],
   "source": [
    "df = df[~(df.rent <= 10.0)]"
   ]
  },
  {
   "cell_type": "code",
   "execution_count": 23,
   "metadata": {},
   "outputs": [
    {
     "data": {
      "text/plain": [
       "(4865, 8)"
      ]
     },
     "execution_count": 23,
     "metadata": {},
     "output_type": "execute_result"
    }
   ],
   "source": [
    "df.shape"
   ]
  },
  {
   "cell_type": "code",
   "execution_count": 24,
   "metadata": {
    "scrolled": true
   },
   "outputs": [
    {
     "data": {
      "text/html": [
       "<div>\n",
       "<style>\n",
       "    .dataframe thead tr:only-child th {\n",
       "        text-align: right;\n",
       "    }\n",
       "\n",
       "    .dataframe thead th {\n",
       "        text-align: left;\n",
       "    }\n",
       "\n",
       "    .dataframe tbody tr th {\n",
       "        vertical-align: top;\n",
       "    }\n",
       "</style>\n",
       "<table border=\"1\" class=\"dataframe\">\n",
       "  <thead>\n",
       "    <tr style=\"text-align: right;\">\n",
       "      <th></th>\n",
       "      <th>advert_state</th>\n",
       "      <th>rent</th>\n",
       "      <th>longitude</th>\n",
       "      <th>latitude</th>\n",
       "      <th>bedrooms</th>\n",
       "      <th>square_metres</th>\n",
       "      <th>dwelling_type</th>\n",
       "      <th>has_garden</th>\n",
       "    </tr>\n",
       "  </thead>\n",
       "  <tbody>\n",
       "    <tr>\n",
       "      <th>8743</th>\n",
       "      <td>let</td>\n",
       "      <td>1350.0</td>\n",
       "      <td>-0.224812</td>\n",
       "      <td>51.521934</td>\n",
       "      <td>2.0</td>\n",
       "      <td>56.0</td>\n",
       "      <td>Top-floor flat</td>\n",
       "      <td>False</td>\n",
       "    </tr>\n",
       "    <tr>\n",
       "      <th>8745</th>\n",
       "      <td>let</td>\n",
       "      <td>1700.0</td>\n",
       "      <td>0.003452</td>\n",
       "      <td>51.554021</td>\n",
       "      <td>2.0</td>\n",
       "      <td>49.0</td>\n",
       "      <td>Mid-terrace house</td>\n",
       "      <td>True</td>\n",
       "    </tr>\n",
       "    <tr>\n",
       "      <th>8750</th>\n",
       "      <td>let</td>\n",
       "      <td>1600.0</td>\n",
       "      <td>-0.194220</td>\n",
       "      <td>51.509725</td>\n",
       "      <td>2.0</td>\n",
       "      <td>57.0</td>\n",
       "      <td>Ground-floor flat</td>\n",
       "      <td>True</td>\n",
       "    </tr>\n",
       "  </tbody>\n",
       "</table>\n",
       "</div>"
      ],
      "text/plain": [
       "     advert_state    rent  longitude   latitude  bedrooms  square_metres  \\\n",
       "8743          let  1350.0  -0.224812  51.521934       2.0           56.0   \n",
       "8745          let  1700.0   0.003452  51.554021       2.0           49.0   \n",
       "8750          let  1600.0  -0.194220  51.509725       2.0           57.0   \n",
       "\n",
       "          dwelling_type has_garden  \n",
       "8743     Top-floor flat      False  \n",
       "8745  Mid-terrace house       True  \n",
       "8750  Ground-floor flat       True  "
      ]
     },
     "execution_count": 24,
     "metadata": {},
     "output_type": "execute_result"
    }
   ],
   "source": [
    "df.tail(3)"
   ]
  },
  {
   "cell_type": "markdown",
   "metadata": {},
   "source": [
    "#### Based on advert_state"
   ]
  },
  {
   "cell_type": "markdown",
   "metadata": {},
   "source": [
    "Since 'let' and 'let_agreed' are the only states where we are sure that the rental price was acceptable from the point of view of the tenants, it would be ideal if we had enough data to drop all of the other states! This only leaves us with 45 rows though, so we are also considering the states of 'live' and 'unpublished', even though the rental prices might be too optimistic for these."
   ]
  },
  {
   "cell_type": "code",
   "execution_count": 25,
   "metadata": {
    "collapsed": true
   },
   "outputs": [],
   "source": [
    "acceptableStates = ['let', 'let_agreed', 'live', 'unpublished']\n",
    "df = df[df.advert_state.str.contains('|'.join(acceptableStates))]"
   ]
  },
  {
   "cell_type": "code",
   "execution_count": 26,
   "metadata": {},
   "outputs": [
    {
     "data": {
      "text/plain": [
       "(3941, 8)"
      ]
     },
     "execution_count": 26,
     "metadata": {},
     "output_type": "execute_result"
    }
   ],
   "source": [
    "df.shape"
   ]
  },
  {
   "cell_type": "markdown",
   "metadata": {
    "collapsed": true
   },
   "source": [
    "### Converting categories to codes"
   ]
  },
  {
   "cell_type": "code",
   "execution_count": 27,
   "metadata": {
    "collapsed": true,
    "scrolled": true
   },
   "outputs": [],
   "source": [
    "df['dwelling_type'] = pd.Categorical(df.dwelling_type).codes\n",
    "df['advert_state'] = pd.Categorical(df.advert_state).codes"
   ]
  },
  {
   "cell_type": "code",
   "execution_count": 28,
   "metadata": {},
   "outputs": [
    {
     "data": {
      "text/html": [
       "<div>\n",
       "<style>\n",
       "    .dataframe thead tr:only-child th {\n",
       "        text-align: right;\n",
       "    }\n",
       "\n",
       "    .dataframe thead th {\n",
       "        text-align: left;\n",
       "    }\n",
       "\n",
       "    .dataframe tbody tr th {\n",
       "        vertical-align: top;\n",
       "    }\n",
       "</style>\n",
       "<table border=\"1\" class=\"dataframe\">\n",
       "  <thead>\n",
       "    <tr style=\"text-align: right;\">\n",
       "      <th></th>\n",
       "      <th>advert_state</th>\n",
       "      <th>rent</th>\n",
       "      <th>longitude</th>\n",
       "      <th>latitude</th>\n",
       "      <th>bedrooms</th>\n",
       "      <th>square_metres</th>\n",
       "      <th>dwelling_type</th>\n",
       "      <th>has_garden</th>\n",
       "    </tr>\n",
       "  </thead>\n",
       "  <tbody>\n",
       "    <tr>\n",
       "      <th>2799</th>\n",
       "      <td>2</td>\n",
       "      <td>1299.0</td>\n",
       "      <td>-0.138818</td>\n",
       "      <td>51.518565</td>\n",
       "      <td>2.0</td>\n",
       "      <td>48.0</td>\n",
       "      <td>23</td>\n",
       "      <td>True</td>\n",
       "    </tr>\n",
       "    <tr>\n",
       "      <th>2800</th>\n",
       "      <td>2</td>\n",
       "      <td>1516.0</td>\n",
       "      <td>-0.040233</td>\n",
       "      <td>51.578288</td>\n",
       "      <td>1.0</td>\n",
       "      <td>62.0</td>\n",
       "      <td>23</td>\n",
       "      <td>False</td>\n",
       "    </tr>\n",
       "    <tr>\n",
       "      <th>2801</th>\n",
       "      <td>2</td>\n",
       "      <td>11800.0</td>\n",
       "      <td>-0.035427</td>\n",
       "      <td>51.612533</td>\n",
       "      <td>3.0</td>\n",
       "      <td>181.0</td>\n",
       "      <td>9</td>\n",
       "      <td>False</td>\n",
       "    </tr>\n",
       "    <tr>\n",
       "      <th>2802</th>\n",
       "      <td>2</td>\n",
       "      <td>1100.0</td>\n",
       "      <td>-0.324282</td>\n",
       "      <td>51.571256</td>\n",
       "      <td>4.0</td>\n",
       "      <td>103.0</td>\n",
       "      <td>13</td>\n",
       "      <td>True</td>\n",
       "    </tr>\n",
       "    <tr>\n",
       "      <th>2803</th>\n",
       "      <td>2</td>\n",
       "      <td>1300.0</td>\n",
       "      <td>-0.110803</td>\n",
       "      <td>51.628070</td>\n",
       "      <td>1.0</td>\n",
       "      <td>42.0</td>\n",
       "      <td>20</td>\n",
       "      <td>False</td>\n",
       "    </tr>\n",
       "  </tbody>\n",
       "</table>\n",
       "</div>"
      ],
      "text/plain": [
       "      advert_state     rent  longitude   latitude  bedrooms  square_metres  \\\n",
       "2799             2   1299.0  -0.138818  51.518565       2.0           48.0   \n",
       "2800             2   1516.0  -0.040233  51.578288       1.0           62.0   \n",
       "2801             2  11800.0  -0.035427  51.612533       3.0          181.0   \n",
       "2802             2   1100.0  -0.324282  51.571256       4.0          103.0   \n",
       "2803             2   1300.0  -0.110803  51.628070       1.0           42.0   \n",
       "\n",
       "      dwelling_type has_garden  \n",
       "2799             23       True  \n",
       "2800             23      False  \n",
       "2801              9      False  \n",
       "2802             13       True  \n",
       "2803             20      False  "
      ]
     },
     "execution_count": 28,
     "metadata": {},
     "output_type": "execute_result"
    }
   ],
   "source": [
    "df.head(5)"
   ]
  },
  {
   "cell_type": "markdown",
   "metadata": {},
   "source": [
    "### Final examination of the data"
   ]
  },
  {
   "cell_type": "code",
   "execution_count": 29,
   "metadata": {},
   "outputs": [
    {
     "data": {
      "text/html": [
       "<div>\n",
       "<style>\n",
       "    .dataframe thead tr:only-child th {\n",
       "        text-align: right;\n",
       "    }\n",
       "\n",
       "    .dataframe thead th {\n",
       "        text-align: left;\n",
       "    }\n",
       "\n",
       "    .dataframe tbody tr th {\n",
       "        vertical-align: top;\n",
       "    }\n",
       "</style>\n",
       "<table border=\"1\" class=\"dataframe\">\n",
       "  <thead>\n",
       "    <tr style=\"text-align: right;\">\n",
       "      <th></th>\n",
       "      <th>advert_state</th>\n",
       "      <th>rent</th>\n",
       "      <th>longitude</th>\n",
       "      <th>latitude</th>\n",
       "      <th>bedrooms</th>\n",
       "      <th>square_metres</th>\n",
       "      <th>dwelling_type</th>\n",
       "      <th>has_garden</th>\n",
       "    </tr>\n",
       "  </thead>\n",
       "  <tbody>\n",
       "    <tr>\n",
       "      <th>count</th>\n",
       "      <td>3941.000000</td>\n",
       "      <td>3941.000000</td>\n",
       "      <td>3941.000000</td>\n",
       "      <td>3941.000000</td>\n",
       "      <td>3941.000000</td>\n",
       "      <td>3941.000000</td>\n",
       "      <td>3941.000000</td>\n",
       "      <td>3941</td>\n",
       "    </tr>\n",
       "    <tr>\n",
       "      <th>unique</th>\n",
       "      <td>NaN</td>\n",
       "      <td>NaN</td>\n",
       "      <td>NaN</td>\n",
       "      <td>NaN</td>\n",
       "      <td>NaN</td>\n",
       "      <td>NaN</td>\n",
       "      <td>NaN</td>\n",
       "      <td>2</td>\n",
       "    </tr>\n",
       "    <tr>\n",
       "      <th>top</th>\n",
       "      <td>NaN</td>\n",
       "      <td>NaN</td>\n",
       "      <td>NaN</td>\n",
       "      <td>NaN</td>\n",
       "      <td>NaN</td>\n",
       "      <td>NaN</td>\n",
       "      <td>NaN</td>\n",
       "      <td>False</td>\n",
       "    </tr>\n",
       "    <tr>\n",
       "      <th>freq</th>\n",
       "      <td>NaN</td>\n",
       "      <td>NaN</td>\n",
       "      <td>NaN</td>\n",
       "      <td>NaN</td>\n",
       "      <td>NaN</td>\n",
       "      <td>NaN</td>\n",
       "      <td>NaN</td>\n",
       "      <td>2468</td>\n",
       "    </tr>\n",
       "    <tr>\n",
       "      <th>mean</th>\n",
       "      <td>1.941132</td>\n",
       "      <td>1601.331043</td>\n",
       "      <td>-0.109413</td>\n",
       "      <td>50.545873</td>\n",
       "      <td>1.828216</td>\n",
       "      <td>74.199188</td>\n",
       "      <td>24.266176</td>\n",
       "      <td>NaN</td>\n",
       "    </tr>\n",
       "    <tr>\n",
       "      <th>std</th>\n",
       "      <td>0.279749</td>\n",
       "      <td>3313.635151</td>\n",
       "      <td>0.095777</td>\n",
       "      <td>7.230636</td>\n",
       "      <td>1.129519</td>\n",
       "      <td>58.944585</td>\n",
       "      <td>9.719672</td>\n",
       "      <td>NaN</td>\n",
       "    </tr>\n",
       "    <tr>\n",
       "      <th>min</th>\n",
       "      <td>0.000000</td>\n",
       "      <td>50.000000</td>\n",
       "      <td>-1.933783</td>\n",
       "      <td>0.000000</td>\n",
       "      <td>0.000000</td>\n",
       "      <td>12.000000</td>\n",
       "      <td>0.000000</td>\n",
       "      <td>NaN</td>\n",
       "    </tr>\n",
       "    <tr>\n",
       "      <th>25%</th>\n",
       "      <td>2.000000</td>\n",
       "      <td>995.000000</td>\n",
       "      <td>-0.183286</td>\n",
       "      <td>51.542263</td>\n",
       "      <td>1.000000</td>\n",
       "      <td>50.000000</td>\n",
       "      <td>15.000000</td>\n",
       "      <td>NaN</td>\n",
       "    </tr>\n",
       "    <tr>\n",
       "      <th>50%</th>\n",
       "      <td>2.000000</td>\n",
       "      <td>1400.000000</td>\n",
       "      <td>-0.113854</td>\n",
       "      <td>51.579995</td>\n",
       "      <td>2.000000</td>\n",
       "      <td>65.000000</td>\n",
       "      <td>23.000000</td>\n",
       "      <td>NaN</td>\n",
       "    </tr>\n",
       "    <tr>\n",
       "      <th>75%</th>\n",
       "      <td>2.000000</td>\n",
       "      <td>1800.000000</td>\n",
       "      <td>-0.039566</td>\n",
       "      <td>51.611860</td>\n",
       "      <td>2.000000</td>\n",
       "      <td>86.000000</td>\n",
       "      <td>34.000000</td>\n",
       "      <td>NaN</td>\n",
       "    </tr>\n",
       "    <tr>\n",
       "      <th>max</th>\n",
       "      <td>2.000000</td>\n",
       "      <td>123412.000000</td>\n",
       "      <td>0.137481</td>\n",
       "      <td>55.761739</td>\n",
       "      <td>10.000000</td>\n",
       "      <td>2852.000000</td>\n",
       "      <td>41.000000</td>\n",
       "      <td>NaN</td>\n",
       "    </tr>\n",
       "  </tbody>\n",
       "</table>\n",
       "</div>"
      ],
      "text/plain": [
       "        advert_state           rent    longitude     latitude     bedrooms  \\\n",
       "count    3941.000000    3941.000000  3941.000000  3941.000000  3941.000000   \n",
       "unique           NaN            NaN          NaN          NaN          NaN   \n",
       "top              NaN            NaN          NaN          NaN          NaN   \n",
       "freq             NaN            NaN          NaN          NaN          NaN   \n",
       "mean        1.941132    1601.331043    -0.109413    50.545873     1.828216   \n",
       "std         0.279749    3313.635151     0.095777     7.230636     1.129519   \n",
       "min         0.000000      50.000000    -1.933783     0.000000     0.000000   \n",
       "25%         2.000000     995.000000    -0.183286    51.542263     1.000000   \n",
       "50%         2.000000    1400.000000    -0.113854    51.579995     2.000000   \n",
       "75%         2.000000    1800.000000    -0.039566    51.611860     2.000000   \n",
       "max         2.000000  123412.000000     0.137481    55.761739    10.000000   \n",
       "\n",
       "        square_metres  dwelling_type has_garden  \n",
       "count     3941.000000    3941.000000       3941  \n",
       "unique            NaN            NaN          2  \n",
       "top               NaN            NaN      False  \n",
       "freq              NaN            NaN       2468  \n",
       "mean        74.199188      24.266176        NaN  \n",
       "std         58.944585       9.719672        NaN  \n",
       "min         12.000000       0.000000        NaN  \n",
       "25%         50.000000      15.000000        NaN  \n",
       "50%         65.000000      23.000000        NaN  \n",
       "75%         86.000000      34.000000        NaN  \n",
       "max       2852.000000      41.000000        NaN  "
      ]
     },
     "execution_count": 29,
     "metadata": {},
     "output_type": "execute_result"
    }
   ],
   "source": [
    "df.describe(include = 'all') "
   ]
  },
  {
   "cell_type": "markdown",
   "metadata": {},
   "source": [
    "One thing that caught my eye with the above - I'm assuming properties without a bedroom are commercial properties, although I still would have thought they'd still have rooms classified as bedrooms. "
   ]
  },
  {
   "cell_type": "code",
   "execution_count": 30,
   "metadata": {},
   "outputs": [
    {
     "data": {
      "text/plain": [
       "268"
      ]
     },
     "execution_count": 30,
     "metadata": {},
     "output_type": "execute_result"
    }
   ],
   "source": [
    "len(df[df.bedrooms == 0])"
   ]
  },
  {
   "cell_type": "markdown",
   "metadata": {},
   "source": [
    "## Basic Price Prediction"
   ]
  },
  {
   "cell_type": "markdown",
   "metadata": {},
   "source": [
    "### Compare Estimators"
   ]
  },
  {
   "cell_type": "code",
   "execution_count": 31,
   "metadata": {
    "collapsed": true
   },
   "outputs": [],
   "source": [
    "estimators = [linear_model.LinearRegression(),\n",
    "        linear_model.Ridge(),\n",
    "        linear_model.Lasso(),\n",
    "        linear_model.ElasticNet(),\n",
    "        linear_model.BayesianRidge(),\n",
    "        linear_model.OrthogonalMatchingPursuit() ]\n",
    "estimator_labels = np.array(['LinearRegression', 'Ridge', 'Lasso', 'ElasticNet', 'BayesianRidge', 'OrthMatchingPursuit'])\n",
    "errvals = np.array([])"
   ]
  },
  {
   "cell_type": "code",
   "execution_count": 34,
   "metadata": {},
   "outputs": [
    {
     "data": {
      "text/plain": [
       "<matplotlib.text.Text at 0x100730790>"
      ]
     },
     "execution_count": 34,
     "metadata": {},
     "output_type": "execute_result"
    },
    {
     "data": {
      "image/png": "[encoded data removed]",
      "text/plain": [
       "<matplotlib.figure.Figure at 0x101aa1190>"
      ]
     },
     "metadata": {},
     "output_type": "display_data"
    }
   ],
   "source": [
    "X_train, X_test, y_train, y_test = train_test_split(df.drop(['rent'], axis=1),\n",
    "                                                    df.rent, test_size=0.1, random_state=10)\n",
    "\n",
    "for e in estimators:\n",
    "    e.fit(X_train, y_train)\n",
    "    this_err = metrics.median_absolute_error(y_test, e.predict(X_test))\n",
    "    errvals = np.append(errvals, this_err)\n",
    "\n",
    "pos = np.arange(errvals.shape[0])\n",
    "srt = np.argsort(errvals)\n",
    "plt.figure(figsize=(10,5))\n",
    "plt.bar(pos, errvals[srt], align='center')\n",
    "plt.xticks(pos, estimator_labels[srt])\n",
    "plt.xlabel('Estimator')\n",
    "plt.ylabel('Median Absolute Error')"
   ]
  },
  {
   "cell_type": "markdown",
   "metadata": {},
   "source": [
    "### Gradient Boosting Regressor"
   ]
  },
  {
   "cell_type": "code",
   "execution_count": 38,
   "metadata": {
    "collapsed": true
   },
   "outputs": [],
   "source": [
    "from sklearn.model_selection import GridSearchCV\n",
    "n_estimators = 300\n",
    "\n",
    "tuned_parameters = {\n",
    "    \"n_estimators\": [ n_estimators ],\n",
    "    \"max_depth\" : [ 4 ],\n",
    "    \"learning_rate\": [ 0.02 ],\n",
    "    \"min_samples_split\" : [ 0.1 ],\n",
    "    \"loss\" : [ 'ls', 'lad' ]\n",
    "}\n",
    "\n",
    "gbr = ensemble.GradientBoostingRegressor()\n",
    "clf = GridSearchCV(gbr, cv=3, param_grid=tuned_parameters,\n",
    "        scoring='neg_median_absolute_error')\n",
    "preds = clf.fit(X_train, y_train)\n",
    "best = clf.best_estimator_"
   ]
  },
  {
   "cell_type": "markdown",
   "metadata": {},
   "source": [
    "plot error for each round of boosting:"
   ]
  },
  {
   "cell_type": "code",
   "execution_count": 40,
   "metadata": {
    "scrolled": true
   },
   "outputs": [
    {
     "data": {
      "text/plain": [
       "<matplotlib.text.Text at 0x10d719310>"
      ]
     },
     "execution_count": 40,
     "metadata": {},
     "output_type": "execute_result"
    },
    {
     "data": {
      "image/png": "[encoded data removed]",
      "text/plain": [
       "<matplotlib.figure.Figure at 0x10c9c0c10>"
      ]
     },
     "metadata": {},
     "output_type": "display_data"
    }
   ],
   "source": [
    "test_score = np.zeros(n_estimators, dtype=np.float64)\n",
    "\n",
    "train_score = best.train_score_\n",
    "for i, y_pred in enumerate(best.staged_predict(X_test)):\n",
    "    test_score[i] = best.loss_(y_test, y_pred)\n",
    "\n",
    "plt.figure(figsize=(18, 6))\n",
    "plt.subplot(1, 2, 1)\n",
    "plt.plot(np.arange(n_estimators), train_score, 'blue', label='Training Set Error')\n",
    "plt.plot(np.arange(n_estimators), test_score, 'red', label='Test Set Error')\n",
    "plt.legend(loc='upper right')\n",
    "plt.xlabel('Boosting Iterations')\n",
    "plt.ylabel('Least Absolute Deviation')"
   ]
  },
  {
   "cell_type": "markdown",
   "metadata": {},
   "source": [
    "### Calculate Feature Importance"
   ]
  },
  {
   "cell_type": "code",
   "execution_count": 41,
   "metadata": {},
   "outputs": [
    {
     "data": {
      "text/plain": [
       "<matplotlib.text.Text at 0x10d8e2650>"
      ]
     },
     "execution_count": 41,
     "metadata": {},
     "output_type": "execute_result"
    },
    {
     "data": {
      "image/png": "[encoded data removed]",
      "text/plain": [
       "<matplotlib.figure.Figure at 0x10ca68890>"
      ]
     },
     "metadata": {},
     "output_type": "display_data"
    }
   ],
   "source": [
    "feature_importance = clf.best_estimator_.feature_importances_\n",
    "feature_importance = 100.0 * (feature_importance / feature_importance.max())\n",
    "sorted_idx = np.argsort(feature_importance)\n",
    "pos = np.arange(sorted_idx.shape[0]) + .5\n",
    "pvals = feature_importance[sorted_idx]\n",
    "pcols = X_train.columns[sorted_idx]\n",
    "plt.figure(figsize=(8,12))\n",
    "plt.barh(pos, pvals, align='center')\n",
    "plt.yticks(pos, pcols)\n",
    "plt.xlabel('Relative Importance')\n",
    "plt.title('Variable Importance')"
   ]
  },
  {
   "cell_type": "markdown",
   "metadata": {},
   "source": [
    "## Future work"
   ]
  },
  {
   "cell_type": "markdown",
   "metadata": {},
   "source": [
    "1) Obviously currently it's creating longitude and latitude as independent variables, when to get a more accurate regressor we should consider them together. I've started to look at extracting the first part of the post code from these with PyGeoCoder, which would give us a suitable feature to replace long & lat."
   ]
  },
  {
   "cell_type": "markdown",
   "metadata": {},
   "source": [
    "2) From this data, it would be useful to have the following data for a property:"
   ]
  },
  {
   "cell_type": "markdown",
   "metadata": {},
   "source": [
    " | tenancy_start_date (current date) | longutide | latitude | bedrooms | square_metres | dwelling_type | has_garden |\n",
    " | --- | --- | --- | --- | --- | --- | --- | --- | --- |\n",
    " | 1/09/2017\t | -0.056726608\t | 51.61493133\t | 1\t | 42\t | Mid-floor flat\t | FALSE | \n",
    " "
   ]
  },
  {
   "cell_type": "markdown",
   "metadata": {},
   "source": [
    "We could train a model which would predict the *time_on_market* field, based on the rental price, in a similar way we've done here. So that you can adjust the rent to see how it would effect the esimated time on the market."
   ]
  },
  {
   "cell_type": "markdown",
   "metadata": {},
   "source": [
    "3) Instead of looking at rental price, we could look at the difference with the national average for that time, e.g. £400/month in 2008 when the data first starts is a lot different to £400/month for the most recent listing this year. This could further be extended to compare it with the average price in the area using the coordinates.\n",
    "\n",
    "Data from 2011 for the UK in general (including and excluding London as two separate figures) - https://www.ons.gov.uk/economy/inflationandpriceindices/bulletins/indexofprivatehousingrentalprices/july2017\n",
    "\n",
    "Regional-specific data can be found here, but it wouldn't be as easy to integrate, as it doesn't look like they offer it in a Pandas-friendly format, we would need a web crawler - https://homelet.co.uk/homelet-rental-index"
   ]
  }
 ],
 "metadata": {
  "kernelspec": {
   "display_name": "Python 2",
   "language": "python",
   "name": "python2"
  }
 },
 "nbformat": 4,
 "nbformat_minor": 2
}
